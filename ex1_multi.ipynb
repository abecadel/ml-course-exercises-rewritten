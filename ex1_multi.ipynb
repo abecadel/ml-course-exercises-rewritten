{
 "cells": [
  {
   "cell_type": "code",
   "execution_count": 1,
   "metadata": {
    "collapsed": true
   },
   "outputs": [],
   "source": [
    "%matplotlib inline\n",
    "\n",
    "import matplotlib\n",
    "import numpy as np\n",
    "import matplotlib.pyplot as plt\n",
    "from mpl_toolkits.mplot3d import Axes3D"
   ]
  },
  {
   "cell_type": "code",
   "execution_count": 2,
   "metadata": {
    "collapsed": true
   },
   "outputs": [],
   "source": [
    "ex1data2 = np.genfromtxt ('ex1data2.txt', delimiter=\",\")"
   ]
  },
  {
   "cell_type": "code",
   "execution_count": 3,
   "metadata": {
    "collapsed": true
   },
   "outputs": [],
   "source": [
    "#extract data\n",
    "X = ex1data2[:,0:2]\n",
    "y = ex1data2[:,2]\n",
    "theta = np.zeros(2)"
   ]
  },
  {
   "cell_type": "code",
   "execution_count": 4,
   "metadata": {
    "collapsed": true
   },
   "outputs": [],
   "source": [
    "def featureNormalize(X):\n",
    "    X2 = X\n",
    "    mu = np.mean(X2, axis = 0)\n",
    "    X2 = X - mu\n",
    "    sigma = np.std(X2, axis = 0)\n",
    "    X2 = X2 / sigma\n",
    "    \n",
    "    return (X2, mu, sigma)\n",
    "\n",
    "X, mu, sigma = featureNormalize(X);"
   ]
  },
  {
   "cell_type": "code",
   "execution_count": 5,
   "metadata": {
    "collapsed": true
   },
   "outputs": [],
   "source": [
    "#add ones to X\n",
    "X = np.c_[np.ones((len(ex1data2))), X]"
   ]
  },
  {
   "cell_type": "code",
   "execution_count": 6,
   "metadata": {},
   "outputs": [
    {
     "name": "stdout",
     "output_type": "stream",
     "text": [
      "Cost computed = 65591047222.9\n"
     ]
    }
   ],
   "source": [
    "def computeCost(X, y, theta):\n",
    "    m = len(X)\n",
    "    return np.sum(np.power((np.matmul(X,theta) - y), 2)) / (2 * m)\n",
    "\n",
    "J = computeCost(X, y, [1, 1, 1]);\n",
    "print('Cost computed = ' + str(J));"
   ]
  },
  {
   "cell_type": "code",
   "execution_count": 7,
   "metadata": {
    "collapsed": true
   },
   "outputs": [],
   "source": [
    "def gradientDescentMulti(X, y, theta, alpha, iterations):\n",
    "    m = len(X)\n",
    "    J_history = []\n",
    "    \n",
    "    for x in range(iterations):\n",
    "        hy = np.matmul(X, theta) - y\n",
    "        theta = theta - alpha * np.matmul(hy, X) / m\n",
    "        \n",
    "        J_history.append(computeCost(X, y, theta))\n",
    "        \n",
    "    return (theta, J_history)"
   ]
  },
  {
   "cell_type": "code",
   "execution_count": 8,
   "metadata": {},
   "outputs": [
    {
     "data": {
      "text/plain": [
       "[<matplotlib.lines.Line2D at 0x84eb320>]"
      ]
     },
     "execution_count": 8,
     "metadata": {},
     "output_type": "execute_result"
    },
    {
     "data": {
      "image/png": "[encoded data removed]",
      "text/plain": [
       "<matplotlib.figure.Figure at 0x811b2e8>"
      ]
     },
     "metadata": {},
     "output_type": "display_data"
    }
   ],
   "source": [
    "alpha = 0.07;\n",
    "num_iters = 100;\n",
    "\n",
    "# Init Theta and Run Gradient Descent \n",
    "theta = np.zeros(3)\n",
    "theta, J_history = gradientDescentMulti(X, y, theta, alpha, num_iters)\n",
    "plt.plot(range(len(J_history)), J_history)"
   ]
  },
  {
   "cell_type": "code",
   "execution_count": 9,
   "metadata": {},
   "outputs": [
    {
     "name": "stdout",
     "output_type": "stream",
     "text": [
      "504452.581736\n"
     ]
    }
   ],
   "source": [
    "# Estimate the price of a 1650 sq-ft, 3 br house\n",
    "price = np.matmul([1,1.650,3],theta)\n",
    "print(price)"
   ]
  }
 ],
 "metadata": {
  "kernelspec": {
   "display_name": "Python 3",
   "language": "python",
   "name": "python3"
  },
  "language_info": {
   "codemirror_mode": {
    "name": "ipython",
    "version": 3
   },
   "file_extension": ".py",
   "mimetype": "text/x-python",
   "name": "python",
   "nbconvert_exporter": "python",
   "pygments_lexer": "ipython3",
   "version": "3.6.1"
  }
 },
 "nbformat": 4,
 "nbformat_minor": 2
}
